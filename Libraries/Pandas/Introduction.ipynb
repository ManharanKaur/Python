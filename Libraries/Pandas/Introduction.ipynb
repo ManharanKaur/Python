{
 "cells": [
  {
   "cell_type": "code",
   "execution_count": 1,
   "id": "2ff8ad3f",
   "metadata": {},
   "outputs": [],
   "source": [
    "import pandas as pd"
   ]
  },
  {
   "cell_type": "code",
   "execution_count": 10,
   "id": "42debb6a",
   "metadata": {},
   "outputs": [
    {
     "data": {
      "text/plain": [
       "0    a\n",
       "1    r\n",
       "2    p\n",
       "3    g\n",
       "4    y\n",
       "dtype: object"
      ]
     },
     "execution_count": 10,
     "metadata": {},
     "output_type": "execute_result"
    }
   ],
   "source": [
    "x = pd.Series(['a', 'r', 'p', 'g', 'y'])\n",
    "x"
   ]
  },
  {
   "cell_type": "code",
   "execution_count": 11,
   "id": "aa2bcb9f",
   "metadata": {},
   "outputs": [
    {
     "data": {
      "text/plain": [
       "0      Amrit\n",
       "1        Ram\n",
       "2    Prithvi\n",
       "3       Garv\n",
       "4    Yagyasi\n",
       "dtype: object"
      ]
     },
     "execution_count": 11,
     "metadata": {},
     "output_type": "execute_result"
    }
   ],
   "source": [
    "name = pd.Series(['Amrit', 'Ram', 'Prithvi', 'Garv', 'Yagyasi'])\n",
    "name"
   ]
  },
  {
   "cell_type": "code",
   "execution_count": 15,
   "id": "e781ea49",
   "metadata": {},
   "outputs": [
    {
     "data": {
      "text/html": [
       "<div>\n",
       "<style scoped>\n",
       "    .dataframe tbody tr th:only-of-type {\n",
       "        vertical-align: middle;\n",
       "    }\n",
       "\n",
       "    .dataframe tbody tr th {\n",
       "        vertical-align: top;\n",
       "    }\n",
       "\n",
       "    .dataframe thead th {\n",
       "        text-align: right;\n",
       "    }\n",
       "</style>\n",
       "<table border=\"1\" class=\"dataframe\">\n",
       "  <thead>\n",
       "    <tr style=\"text-align: right;\">\n",
       "      <th></th>\n",
       "      <th>Initials</th>\n",
       "      <th>Names</th>\n",
       "    </tr>\n",
       "  </thead>\n",
       "  <tbody>\n",
       "    <tr>\n",
       "      <th>0</th>\n",
       "      <td>a</td>\n",
       "      <td>Amrit</td>\n",
       "    </tr>\n",
       "    <tr>\n",
       "      <th>1</th>\n",
       "      <td>r</td>\n",
       "      <td>Ram</td>\n",
       "    </tr>\n",
       "    <tr>\n",
       "      <th>2</th>\n",
       "      <td>p</td>\n",
       "      <td>Prithvi</td>\n",
       "    </tr>\n",
       "    <tr>\n",
       "      <th>3</th>\n",
       "      <td>g</td>\n",
       "      <td>Garv</td>\n",
       "    </tr>\n",
       "    <tr>\n",
       "      <th>4</th>\n",
       "      <td>y</td>\n",
       "      <td>Yagyasi</td>\n",
       "    </tr>\n",
       "  </tbody>\n",
       "</table>\n",
       "</div>"
      ],
      "text/plain": [
       "  Initials    Names\n",
       "0        a    Amrit\n",
       "1        r      Ram\n",
       "2        p  Prithvi\n",
       "3        g     Garv\n",
       "4        y  Yagyasi"
      ]
     },
     "execution_count": 15,
     "metadata": {},
     "output_type": "execute_result"
    }
   ],
   "source": [
    "data = pd.DataFrame({\"Initials\" : x, \"Names\" : name})\n",
    "data"
   ]
  },
  {
   "cell_type": "code",
   "execution_count": null,
   "id": "2e8e0292",
   "metadata": {},
   "outputs": [],
   "source": [
    "df = pd.read_csv() # read the csv file"
   ]
  },
  {
   "cell_type": "code",
   "execution_count": null,
   "id": "d59d5ced",
   "metadata": {},
   "outputs": [],
   "source": [
    "df.describe() # Print summary statistics of the DataFrame"
   ]
  },
  {
   "cell_type": "code",
   "execution_count": null,
   "id": "35c462d1",
   "metadata": {},
   "outputs": [],
   "source": [
    "df.info() # prints the info of the dataframe"
   ]
  },
  {
   "cell_type": "code",
   "execution_count": null,
   "id": "d6fba3f9",
   "metadata": {},
   "outputs": [],
   "source": [
    "df.head() # display the first few rows of the dataframe"
   ]
  },
  {
   "cell_type": "code",
   "execution_count": null,
   "id": "f2a1abcb",
   "metadata": {},
   "outputs": [],
   "source": [
    "df.tail() # print the last 5 rows of the dataframe"
   ]
  },
  {
   "cell_type": "code",
   "execution_count": null,
   "id": "ba8f8b8b",
   "metadata": {},
   "outputs": [],
   "source": [
    "df.loc() # "
   ]
  },
  {
   "cell_type": "code",
   "execution_count": null,
   "id": "cdaaf756",
   "metadata": {},
   "outputs": [],
   "source": [
    "df.hist() # histogram of the data"
   ]
  }
 ],
 "metadata": {
  "kernelspec": {
   "display_name": ".venv",
   "language": "python",
   "name": "python3"
  },
  "language_info": {
   "codemirror_mode": {
    "name": "ipython",
    "version": 3
   },
   "file_extension": ".py",
   "mimetype": "text/x-python",
   "name": "python",
   "nbconvert_exporter": "python",
   "pygments_lexer": "ipython3",
   "version": "3.12.4"
  }
 },
 "nbformat": 4,
 "nbformat_minor": 5
}
