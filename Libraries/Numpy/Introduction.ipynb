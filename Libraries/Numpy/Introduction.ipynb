{
 "cells": [
  {
   "cell_type": "code",
   "execution_count": 1,
   "id": "881aca0a",
   "metadata": {},
   "outputs": [],
   "source": [
    "import numpy as np"
   ]
  },
  {
   "cell_type": "markdown",
   "id": "ba373b7d",
   "metadata": {},
   "source": [
    "**NumPy** (Numerical Python) is a Python library used for **fast mathematical operations** on large arrays and matrices. It provides support for:\n",
    "\n",
    "- Multi-dimensional arrays (`ndarray`)\n",
    "- Mathematical functions (like mean, dot product, etc.)\n",
    "- Linear algebra, Fourier transforms, and more\n",
    "\n",
    "It’s widely used in data science, AI, and scientific computing."
   ]
  },
  {
   "cell_type": "markdown",
   "id": "dd269d15",
   "metadata": {},
   "source": [
    "# Why Use NumPy?\n",
    "\n",
    "- **Faster computations**: Operations on NumPy arrays are much faster than Python lists.\n",
    "- **Efficient memory usage**: Uses less memory and supports large datasets.\n",
    "- **Vectorized operations**: Perform operations on entire arrays without loops.\n",
    "- **Built-in functions**: Offers a wide range of mathematical, statistical, and linear algebra functions.\n",
    "- **Interoperability**: Works well with other libraries like Pandas, Matplotlib, and SciPy.\n",
    "\n",
    "NumPy is essential for scientific computing and is the foundation of many data and AI tools.\n"
   ]
  },
  {
   "cell_type": "code",
   "execution_count": 3,
   "id": "8003c4ad",
   "metadata": {},
   "outputs": [
    {
     "name": "stdout",
     "output_type": "stream",
     "text": [
      "List passed: [1 2 3 4 5]\n",
      "Tuple passed: [1 2 3 4 5]\n"
     ]
    }
   ],
   "source": [
    "x = np.array([1,2,3,4,5]) # input array : a list is passed\n",
    "print(\"List passed:\",x)\n",
    "y = np.array((1,2,3,4,5)) # here tupple is passed\n",
    "print(\"Tuple passed:\",y)"
   ]
  },
  {
   "cell_type": "markdown",
   "id": "8a1952c0",
   "metadata": {},
   "source": [
    "To create an `ndarray`, we can pass a `list`, `tuple` or any array-like object into the array() method, and it will be converted into an `ndarray`"
   ]
  },
  {
   "cell_type": "code",
   "execution_count": 4,
   "id": "1bf35157",
   "metadata": {},
   "outputs": [
    {
     "name": "stdout",
     "output_type": "stream",
     "text": [
      "Type of x: <class 'numpy.ndarray'>\n",
      "Type of y: <class 'numpy.ndarray'>\n"
     ]
    }
   ],
   "source": [
    "print(\"Type of x:\", type(x))\n",
    "print(\"Type of y:\", type(y))"
   ]
  },
  {
   "cell_type": "markdown",
   "id": "932178d8",
   "metadata": {},
   "source": [
    "### 0 - D Array\n",
    "\n",
    "A **0D array** (zero-dimensional array) in NumPy is a scalar — it contains only a single value."
   ]
  },
  {
   "cell_type": "code",
   "execution_count": 5,
   "id": "3d380450",
   "metadata": {},
   "outputs": [
    {
     "name": "stdout",
     "output_type": "stream",
     "text": [
      "123\n"
     ]
    }
   ],
   "source": [
    "arr = np.array(123)\n",
    "print(arr)"
   ]
  },
  {
   "cell_type": "markdown",
   "id": "9cf14667",
   "metadata": {},
   "source": [
    "# n-D Array"
   ]
  },
  {
   "cell_type": "code",
   "execution_count": null,
   "id": "bb101f68",
   "metadata": {},
   "outputs": [
    {
     "name": "stdout",
     "output_type": "stream",
     "text": [
      "Higher dimention array:\n",
      " [[[[[1 2 3 4]]]]]\n"
     ]
    }
   ],
   "source": [
    "arr = np.array([1, 2, 3, 4], ndmin=5)\n",
    "print(\"Higher dimention array:\\n\", arr)"
   ]
  },
  {
   "cell_type": "code",
   "execution_count": null,
   "id": "c51fd931",
   "metadata": {},
   "outputs": [
    {
     "name": "stdout",
     "output_type": "stream",
     "text": [
      "Shape:  (1, 1, 1, 1, 4)\n"
     ]
    }
   ],
   "source": [
    "print(\"Shape: \", arr.shape)"
   ]
  },
  {
   "cell_type": "markdown",
   "id": "2f9a9f95",
   "metadata": {},
   "source": [
    "# Data Types in NumPy\n",
    "\n",
    "NumPy supports various data types (dtypes) to handle different kinds of data efficiently.\n",
    "\n",
    "### Common NumPy Data Types and Their Characters:\n",
    "\n",
    "- **i**: Integer\n",
    "  - Example: `np.int32`, `np.int64`\n",
    "- **b**: Boolean\n",
    "  - Example: `np.bool`\n",
    "- **u**: Unsigned Integer\n",
    "  - Example: `np.uint32`, `np.uint64`\n",
    "- **f**: Float\n",
    "  - Example: `np.float32`, `np.float64`\n",
    "- **c**: Complex Float\n",
    "  - Example: `np.complex64`, `np.complex128`\n",
    "- **m**: Timedelta\n",
    "  - Example: `np.timedelta64`\n",
    "- **M**: Datetime\n",
    "  - Example: `np.datetime64`\n",
    "- **O**: Object\n",
    "  - Example: `np.object`\n",
    "- **S**: String\n",
    "  - Example: `np.str_`\n",
    "- **U**: Unicode String\n",
    "  - Example: `np.unicode_`\n",
    "- **V**: Fixed chunk of memory for other types (Void)\n",
    "  - Example: `np.void`\n",
    "\n"
   ]
  },
  {
   "cell_type": "code",
   "execution_count": 10,
   "id": "af69308d",
   "metadata": {},
   "outputs": [
    {
     "name": "stdout",
     "output_type": "stream",
     "text": [
      "As float:  [1. 2. 3.]\n",
      "Data Type:  float64\n",
      "As string:  ['1' '2' '3']\n",
      "Data Type:  <U1\n"
     ]
    }
   ],
   "source": [
    "a = np.array([1, 2, 3], dtype=np.float64)\n",
    "print(\"As float: \", a)\n",
    "print(\"Data Type: \",a.dtype)  \n",
    "a = np.array([1, 2, 3], dtype=np.str_)\n",
    "print(\"As string: \", a)\n",
    "print(\"Data Type: \",a.dtype)  "
   ]
  },
  {
   "cell_type": "markdown",
   "id": "3d462f05",
   "metadata": {},
   "source": [
    "# NumPy dtype Codes \n",
    "\n",
    "In NumPy, data types can also be represented using **shorthand notations**. These notations combine a **letter** and a **number**:\n",
    "\n",
    "- The **letter** indicates the **data type**\n",
    "- The **number** indicates the **number of bytes**\n",
    "\n",
    "---\n",
    "\n",
    "## 📋 Common dtype Codes:\n",
    "\n",
    "| Code | Meaning             | Example         |\n",
    "|------|---------------------|-----------------|\n",
    "| `i1` | Integer (1 byte)     | `np.int8`       |\n",
    "| `i2` | Integer (2 bytes)    | `np.int16`      |\n",
    "| `i4` | Integer (4 bytes)    | `np.int32`      |\n",
    "| `i8` | Integer (8 bytes)    | `np.int64`      |\n",
    "| `u1` | Unsigned int (1 byte)| `np.uint8`     |\n",
    "| `u2` | Unsigned int (2 bytes)| `np.uint16`    |\n",
    "| `f4` | Float (4 bytes)      | `np.float32`    |\n",
    "| `f8` | Float (8 bytes)      | `np.float64`    |\n",
    "| `c8` | Complex (8 bytes)    | `np.complex64`  |\n",
    "| `c16`| Complex (16 bytes)   | `np.complex128` |\n",
    "| `b`  | Boolean              | `np.bool_`      |\n",
    "| `U`  | Unicode string       | `np.unicode_`   |\n",
    "| `S`  | Byte string          | `np.string_`    |"
   ]
  },
  {
   "cell_type": "code",
   "execution_count": null,
   "id": "0af11e9a",
   "metadata": {},
   "outputs": [
    {
     "name": "stdout",
     "output_type": "stream",
     "text": [
      "int32\n",
      "float64\n"
     ]
    }
   ],
   "source": [
    "a = np.array([1, 2, 3], dtype='i4')   # 4-byte integer (int32)\n",
    "b = np.array([1.5, 2.5], dtype='f8')  # 8-byte float (float64)\n",
    "\n",
    "print(a.dtype)  \n",
    "print(b.dtype)  "
   ]
  },
  {
   "cell_type": "markdown",
   "id": "f249ee3a",
   "metadata": {},
   "source": [
    "### Shallow Copy (`view()`)\n",
    "- Shares **data** with the original array.\n",
    "- Changes in data affect both arrays."
   ]
  },
  {
   "cell_type": "code",
   "execution_count": 12,
   "id": "5f87442e",
   "metadata": {},
   "outputs": [
    {
     "name": "stdout",
     "output_type": "stream",
     "text": [
      "a:  [100   2   3]\n"
     ]
    }
   ],
   "source": [
    "a = np.array([1, 2, 3])\n",
    "b = a.view()\n",
    "b[0] = 100\n",
    "print(\"a: \", a) "
   ]
  },
  {
   "cell_type": "markdown",
   "id": "e5fb37e3",
   "metadata": {},
   "source": [
    "### Deep Copy (copy())\n",
    "- Independent copy of data.\n",
    "- Changes do not affect the original."
   ]
  },
  {
   "cell_type": "code",
   "execution_count": 13,
   "id": "a9c776b1",
   "metadata": {},
   "outputs": [
    {
     "name": "stdout",
     "output_type": "stream",
     "text": [
      "c : [1 2 3]\n"
     ]
    }
   ],
   "source": [
    "c = np.array([1, 2, 3])\n",
    "d = c.copy()\n",
    "d[0] = 100\n",
    "print(\"c :\",c) "
   ]
  },
  {
   "cell_type": "markdown",
   "id": "5ccdd2ef",
   "metadata": {},
   "source": [
    "#### Search Functions in NumPy\n",
    "\n",
    "NumPy provides several useful functions for searching and manipulating arrays:\n",
    "\n",
    "##### `np.searchsorted()`\n",
    "\n",
    "The `np.searchsorted()` function returns the indices where elements should be inserted to maintain order in a sorted array.\n",
    "\n",
    "**Syntax**: <br>\n",
    "`numpy.searchsorted(a, v, side='left', sorter=None)`\n",
    "- **`a`**: The sorted input array.\n",
    "- **`v`**: The value or array of values to insert.\n",
    "- **`side`**: ('left' or 'right') which side of the index to consider.\n",
    "- **`sorter`**: Optional, an array of indices that sort a.\n"
   ]
  },
  {
   "cell_type": "markdown",
   "id": "6a420a2c",
   "metadata": {},
   "source": [
    "#### `np.where()`\n",
    "\n",
    "The `np.where()` function is used for conditional selection and finding elements within an array.<br>It can either return indices or replace elements based on a condition.\n",
    "\n",
    " **Syntax**: <br>\n",
    "`numpy.where(condition, [x, y])`\n"
   ]
  },
  {
   "cell_type": "code",
   "execution_count": 14,
   "id": "3ba85458",
   "metadata": {},
   "outputs": [
    {
     "name": "stdout",
     "output_type": "stream",
     "text": [
      "(array([2, 5, 9]),)\n"
     ]
    }
   ],
   "source": [
    "a = np.array((1,2,4,5,7,4,6,7,3,4,6,9,0,2))\n",
    "x = np.where(a == 4)\n",
    "print(x)"
   ]
  },
  {
   "cell_type": "markdown",
   "id": "07993d93",
   "metadata": {},
   "source": [
    "####  Sorting Arrays in NumPy\n",
    "NumPy provides the `np.sort()` function to sort array elements. It sorts along a specified axis without modifying the original array.<br><br>\n",
    "**Syntax**:<br>\n",
    "`numpy.sort(a, axis=-1, kind='algorithm')`\n"
   ]
  },
  {
   "cell_type": "code",
   "execution_count": 23,
   "id": "2c4e9f62",
   "metadata": {},
   "outputs": [
    {
     "name": "stdout",
     "output_type": "stream",
     "text": [
      "Sort about Axis 0\n",
      " [[3 0 2 2]\n",
      " [6 1 5 3]]\n",
      "Sort about Axis 1\n",
      " [[1 2 3 5]\n",
      " [0 2 3 6]]\n"
     ]
    }
   ],
   "source": [
    "arr = np.array([[3, 1, 5, 2],[6, 0, 2, 3]])\n",
    "sorted_arr = np.sort(arr, axis = 0)\n",
    "print('Sort about Axis 0\\n',sorted_arr)\n",
    "\n",
    "sorted_arr = np.sort(arr, axis = 1) # default\n",
    "print('Sort about Axis 1\\n',sorted_arr)"
   ]
  },
  {
   "cell_type": "markdown",
   "id": "aa73c7c5",
   "metadata": {},
   "source": [
    "- `np.sort()` does not sort in-place. Use `arr.sort()` if you want to modify the original array.\n",
    "- Use [::-1] to reverse the result for descending order.\n",
    "- For argsort (get indices of sorted array), use `np.argsort().`"
   ]
  }
 ],
 "metadata": {
  "kernelspec": {
   "display_name": ".venv",
   "language": "python",
   "name": "python3"
  },
  "language_info": {
   "codemirror_mode": {
    "name": "ipython",
    "version": 3
   },
   "file_extension": ".py",
   "mimetype": "text/x-python",
   "name": "python",
   "nbconvert_exporter": "python",
   "pygments_lexer": "ipython3",
   "version": "3.12.4"
  }
 },
 "nbformat": 4,
 "nbformat_minor": 5
}
