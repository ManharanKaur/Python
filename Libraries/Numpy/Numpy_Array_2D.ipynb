{
 "cells": [
  {
   "cell_type": "markdown",
   "id": "f30a6e39",
   "metadata": {},
   "source": [
    "# 2D Array in NumPy\n",
    "\n",
    "A **2D array** (two-dimensional array) is like a matrix — it has rows and columns.\n"
   ]
  },
  {
   "cell_type": "code",
   "execution_count": 1,
   "id": "8c0346a6",
   "metadata": {},
   "outputs": [],
   "source": [
    "import numpy as np"
   ]
  },
  {
   "cell_type": "code",
   "execution_count": null,
   "id": "967070ab",
   "metadata": {},
   "outputs": [
    {
     "name": "stdout",
     "output_type": "stream",
     "text": [
      "Numpy array: \n",
      " [[ 1  2  3  4  5]\n",
      " [ 6  7  8  9 10]]\n",
      "Number of dimensions:  2\n"
     ]
    }
   ],
   "source": [
    "x = np.array([[1, 2, 3, 4, 5], [6, 7, 8, 9, 10]])\n",
    "print(\"Numpy array: \\n\", x)\n",
    "print(\"Number of dimensions: \", x.ndim)\n",
    "print(\"Data type: \", x.dtype)"
   ]
  },
  {
   "cell_type": "markdown",
   "id": "6df3bf4f",
   "metadata": {},
   "source": [
    "Indexing"
   ]
  },
  {
   "cell_type": "code",
   "execution_count": 8,
   "id": "c2355ac5",
   "metadata": {},
   "outputs": [
    {
     "name": "stdout",
     "output_type": "stream",
     "text": [
      "x[1, 0]: 6\n",
      "x[-1, 1]: 7\n"
     ]
    }
   ],
   "source": [
    "print(\"x[1, 0]:\", x[1, 0])\n",
    "print(\"x[-1, 1]:\", x[-1, 1]) # Access the 2nd element of the last sublist"
   ]
  },
  {
   "cell_type": "markdown",
   "id": "7b120514",
   "metadata": {},
   "source": [
    "**Slicing arrays:**<br>\n",
    "Slicing in python means taking elements from one given index to another given index."
   ]
  },
  {
   "cell_type": "code",
   "execution_count": 9,
   "id": "217ac7b0",
   "metadata": {},
   "outputs": [
    {
     "name": "stdout",
     "output_type": "stream",
     "text": [
      "x[1, 1:4]: [7 8 9]\n",
      "x[0:2, 2]: [3 8]\n"
     ]
    }
   ],
   "source": [
    "print(\"x[1, 1:4]:\", x[1, 1:4]) # From the second subarray, slice elements from index 1 to index 4\n",
    "print(\"x[0:2, 2]:\", x[0:2, 2]) # From the second element, slice elements from index 1 to index 4"
   ]
  },
  {
   "cell_type": "code",
   "execution_count": 11,
   "id": "74ed9b40",
   "metadata": {},
   "outputs": [
    {
     "name": "stdout",
     "output_type": "stream",
     "text": [
      "[['1' '2']\n",
      " ['3' '4']]\n",
      "Dimensions: 2\n",
      "Data Type: <U1\n"
     ]
    }
   ],
   "source": [
    "b = np.array([[1, 2], [3, 4]], dtype=np.unicode_)\n",
    "print(b)\n",
    "print(\"Dimensions:\", b.ndim)\n",
    "print(\"Data Type:\", b.dtype)"
   ]
  },
  {
   "cell_type": "markdown",
   "id": "b271cdff",
   "metadata": {},
   "source": [
    "**Shape of an Array**<br>\n",
    "The shape of an array is the number of elements in each dimension."
   ]
  },
  {
   "cell_type": "code",
   "execution_count": 12,
   "id": "fcd183b1",
   "metadata": {},
   "outputs": [
    {
     "name": "stdout",
     "output_type": "stream",
     "text": [
      "Shape:  (2, 5)\n"
     ]
    }
   ],
   "source": [
    "print(\"Shape: \", x.shape)"
   ]
  },
  {
   "cell_type": "markdown",
   "id": "1cda5f24",
   "metadata": {},
   "source": [
    "#### Converting 1D to 2D Array in NumPy\n",
    "In NumPy, you can easily convert a **1D array** to a **2D array** by reshaping the array using the `.reshape()` method."
   ]
  },
  {
   "cell_type": "code",
   "execution_count": 13,
   "id": "74e5dc56",
   "metadata": {},
   "outputs": [
    {
     "name": "stdout",
     "output_type": "stream",
     "text": [
      "Original 1D array:\n",
      "[1 2 3 4 5 6]\n",
      "\n",
      "Converted 2D array:\n",
      "[[1 2 3]\n",
      " [4 5 6]]\n"
     ]
    }
   ],
   "source": [
    "# 1D array\n",
    "a = np.array([1, 2, 3, 4, 5, 6])\n",
    "# Convert to 2D array (1 row and 6 columns)\n",
    "b = a.reshape(2, 3)\n",
    "print(\"Original 1D array:\")\n",
    "print(a)\n",
    "\n",
    "print(\"\\nConverted 2D array:\")\n",
    "print(b)"
   ]
  },
  {
   "cell_type": "markdown",
   "id": "c5383a46",
   "metadata": {},
   "source": [
    "#### Concatenating Arrays in NumPy\n",
    "\n",
    "In NumPy, you can concatenate arrays using the `np.concatenate()` function. This function allows you to join two or more arrays along a specified axis."
   ]
  },
  {
   "cell_type": "code",
   "execution_count": null,
   "id": "b0fd707a",
   "metadata": {},
   "outputs": [
    {
     "name": "stdout",
     "output_type": "stream",
     "text": [
      "Concatenated 2D array along axis 0 (rows):\n",
      "[[1 2]\n",
      " [3 4]\n",
      " [5 6]\n",
      " [7 8]]\n"
     ]
    }
   ],
   "source": [
    "# 2D arrays\n",
    "a = np.array([[1, 2], [3, 4]])\n",
    "b = np.array([[5, 6], [7, 8]])\n",
    "\n",
    "# Concatenate along axis 0 (rows)\n",
    "c = np.concatenate((a, b), axis=0)\n",
    "\n",
    "print(\"Concatenated 2D array along axis 0 (rows):\")\n",
    "print(c)"
   ]
  },
  {
   "cell_type": "code",
   "execution_count": 15,
   "id": "4f28eb14",
   "metadata": {},
   "outputs": [
    {
     "name": "stdout",
     "output_type": "stream",
     "text": [
      "Concatenated 2D array along axis 1 (columns):\n",
      "[[1 2 5 6]\n",
      " [3 4 7 8]]\n"
     ]
    }
   ],
   "source": [
    "# Concatenate along axis 1 (columns)\n",
    "c = np.concatenate((a, b), axis=1)\n",
    "\n",
    "print(\"Concatenated 2D array along axis 1 (columns):\")\n",
    "print(c)\n"
   ]
  },
  {
   "cell_type": "code",
   "execution_count": 16,
   "id": "26c36903",
   "metadata": {},
   "outputs": [
    {
     "name": "stdout",
     "output_type": "stream",
     "text": [
      "(array([1, 1]), array([0, 1]))\n"
     ]
    }
   ],
   "source": [
    "arr = np.array([[5, 10], [15, 20]])\n",
    "indices = np.where(arr > 10)\n",
    "print(indices)  "
   ]
  },
  {
   "cell_type": "code",
   "execution_count": 17,
   "id": "3277f983",
   "metadata": {},
   "outputs": [
    {
     "name": "stdout",
     "output_type": "stream",
     "text": [
      "[[-1 -1]\n",
      " [15 20]]\n"
     ]
    }
   ],
   "source": [
    "arr = np.array([[5, 10], [15, 20]])\n",
    "result = np.where(arr > 10, arr, -1) # Replace values less than 10 with -1\n",
    "print(result)"
   ]
  },
  {
   "cell_type": "code",
   "execution_count": 19,
   "id": "1431c76f",
   "metadata": {},
   "outputs": [
    {
     "name": "stdout",
     "output_type": "stream",
     "text": [
      "sorted row wise\n",
      " [[1 3 7]\n",
      " [2 5 9]]\n",
      "sorted column wise\n",
      " [[2 7 1]\n",
      " [3 9 5]]\n"
     ]
    }
   ],
   "source": [
    "arr = np.array([[3, 7, 1], [2, 9, 5]])\n",
    "# Sort along each row (axis=1)\n",
    "sorted_row = np.sort(arr, axis=1)\n",
    "print('sorted row wise\\n', sorted_row)\n",
    "# Sort along each column (axis=0)\n",
    "sorted_col = np.sort(arr, axis=0)\n",
    "print('sorted column wise\\n', sorted_col)"
   ]
  }
 ],
 "metadata": {
  "kernelspec": {
   "display_name": ".venv",
   "language": "python",
   "name": "python3"
  },
  "language_info": {
   "codemirror_mode": {
    "name": "ipython",
    "version": 3
   },
   "file_extension": ".py",
   "mimetype": "text/x-python",
   "name": "python",
   "nbconvert_exporter": "python",
   "pygments_lexer": "ipython3",
   "version": "3.12.4"
  }
 },
 "nbformat": 4,
 "nbformat_minor": 5
}
