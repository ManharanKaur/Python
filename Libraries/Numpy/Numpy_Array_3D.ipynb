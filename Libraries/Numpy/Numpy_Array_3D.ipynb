{
 "cells": [
  {
   "cell_type": "markdown",
   "id": "1ea8c50d",
   "metadata": {},
   "source": [
    "# 3D Array in NumPy\n",
    "\n",
    "A **3D array** (three-dimensional array) is like a collection of 2D matrices — often called a \"cube\" of data.\n"
   ]
  },
  {
   "cell_type": "code",
   "execution_count": 1,
   "id": "7026cbf1",
   "metadata": {},
   "outputs": [],
   "source": [
    "import numpy as np"
   ]
  },
  {
   "cell_type": "code",
   "execution_count": null,
   "id": "7578c7d9",
   "metadata": {},
   "outputs": [
    {
     "name": "stdout",
     "output_type": "stream",
     "text": [
      "3D Numpy array: \n",
      " [[[1 2 3]\n",
      "  [4 5 6]]\n",
      "\n",
      " [[1 2 3]\n",
      "  [4 5 6]]]\n",
      "Number of dimensions:  3\n"
     ]
    }
   ],
   "source": [
    "x = np.array([[[1, 2, 3], [4, 5, 6]], [[1, 2, 3], [4, 5, 6]]])\n",
    "print(\"3D Numpy array: \\n\", x)\n",
    "print(\"Number of dimensions: \", x.ndim)\n",
    "print(\"Data type: \", x.dtype)"
   ]
  },
  {
   "cell_type": "markdown",
   "id": "9150049f",
   "metadata": {},
   "source": [
    "Indexing"
   ]
  },
  {
   "cell_type": "code",
   "execution_count": 5,
   "id": "a6a03c0c",
   "metadata": {},
   "outputs": [
    {
     "name": "stdout",
     "output_type": "stream",
     "text": [
      "x[0, 1, 2]: 6\n",
      "x[0, 1]: [4 5 6]\n",
      "x[-2, 0, -1]: 3\n"
     ]
    }
   ],
   "source": [
    "print(\"x[0, 1, 2]:\",x[0, 1, 2])\n",
    "print(\"x[0, 1]:\",x[0, 1])\n",
    "print(\"x[-2, 0, -1]:\", x[-2, 0, -1])"
   ]
  },
  {
   "cell_type": "code",
   "execution_count": 6,
   "id": "79da1b2c",
   "metadata": {},
   "outputs": [
    {
     "name": "stdout",
     "output_type": "stream",
     "text": [
      "[[[1.+0.j 2.+0.j]\n",
      "  [3.+0.j 4.+0.j]]\n",
      "\n",
      " [[5.+0.j 6.+0.j]\n",
      "  [7.+0.j 8.+0.j]]]\n",
      "Dimensions: 3\n",
      "Data Type: complex64\n"
     ]
    }
   ],
   "source": [
    "c = np.array([\n",
    "    [[1, 2], [3, 4]],\n",
    "    [[5, 6], [7, 8]]\n",
    "], dtype=np.complex64)\n",
    "print(c)\n",
    "print(\"Dimensions:\", c.ndim)\n",
    "print(\"Data Type:\", c.dtype)\n"
   ]
  },
  {
   "cell_type": "markdown",
   "id": "ca383d7b",
   "metadata": {},
   "source": [
    "**Shape of an Array**<br>\n",
    "The shape of an array is the number of elements in each dimension."
   ]
  },
  {
   "cell_type": "code",
   "execution_count": 7,
   "id": "969ee786",
   "metadata": {},
   "outputs": [
    {
     "name": "stdout",
     "output_type": "stream",
     "text": [
      "Shape:  (2, 2, 3)\n"
     ]
    }
   ],
   "source": [
    "print(\"Shape: \", x.shape)"
   ]
  },
  {
   "cell_type": "markdown",
   "id": "0c1f9926",
   "metadata": {},
   "source": [
    "#### Converting 1D to 3D Array in NumPy\n",
    "\n",
    "In NumPy, you can convert a **1D array** to a **3D array** by reshaping the array using the `.reshape()` method.\n"
   ]
  },
  {
   "cell_type": "code",
   "execution_count": 9,
   "id": "2258304e",
   "metadata": {},
   "outputs": [
    {
     "name": "stdout",
     "output_type": "stream",
     "text": [
      "Original 1D array:\n",
      "[ 1  2  3  4  5  6  7  8  9 10 11 12]\n",
      "\n",
      "Converted 3D array:\n",
      "[[[ 1  2  3]\n",
      "  [ 4  5  6]]\n",
      "\n",
      " [[ 7  8  9]\n",
      "  [10 11 12]]]\n"
     ]
    }
   ],
   "source": [
    "# 1D array\n",
    "a = np.array([1, 2, 3, 4, 5, 6, 7, 8, 9, 10, 11, 12])\n",
    "\n",
    "# Convert to 3D array (1 block, 3 rows, and 3 columns)\n",
    "b = a.reshape(2, 2, 3)\n",
    "\n",
    "print(\"Original 1D array:\")\n",
    "print(a)\n",
    "\n",
    "print(\"\\nConverted 3D array:\")\n",
    "print(b)"
   ]
  },
  {
   "cell_type": "markdown",
   "id": "44118330",
   "metadata": {},
   "source": [
    "#### Converting 2D to 3D Array in NumPy\n",
    "\n",
    "In NumPy, you can convert a **2D array** to a **3D array** by reshaping the array using the `.reshape()` method."
   ]
  },
  {
   "cell_type": "code",
   "execution_count": 11,
   "id": "f5ab5aa6",
   "metadata": {},
   "outputs": [
    {
     "name": "stdout",
     "output_type": "stream",
     "text": [
      "Original 2D array:\n",
      "[[1 2 3 4 5 6]\n",
      " [4 5 6 7 8 9]]\n",
      "\n",
      "Converted 3D array:\n",
      "[[[1 2 3]\n",
      "  [4 5 6]]\n",
      "\n",
      " [[4 5 6]\n",
      "  [7 8 9]]]\n"
     ]
    }
   ],
   "source": [
    "# 2D array\n",
    "a = np.array([[1, 2, 3, 4, 5, 6], [4, 5, 6, 7, 8 , 9]])\n",
    "\n",
    "# Convert to 3D array (1 block, 2 rows, and 3 columns)\n",
    "b = a.reshape(2, 2, 3)\n",
    "\n",
    "print(\"Original 2D array:\")\n",
    "print(a)\n",
    "\n",
    "print(\"\\nConverted 3D array:\")\n",
    "print(b)"
   ]
  },
  {
   "cell_type": "code",
   "execution_count": 14,
   "id": "169e3abf",
   "metadata": {},
   "outputs": [
    {
     "name": "stdout",
     "output_type": "stream",
     "text": [
      "[[[1 2]\n",
      "  [0 0]]\n",
      "\n",
      " [[0 0]\n",
      "  [7 8]]]\n"
     ]
    }
   ],
   "source": [
    "arr = np.array([[[1, 2], [3, 4]], [[5, 6], [7, 8]]])\n",
    "result = np.where((arr > 6) | (arr < 3 ), arr, 0)\n",
    "print(result)"
   ]
  },
  {
   "cell_type": "code",
   "execution_count": 17,
   "id": "c0bb4548",
   "metadata": {},
   "outputs": [
    {
     "name": "stdout",
     "output_type": "stream",
     "text": [
      "sorted colum wise\n",
      " [[[1 5 9]\n",
      "  [3 6 7]]\n",
      "\n",
      " [[4 7 8]\n",
      "  [0 2 7]]]\n",
      "sorted row wise\n",
      " [[[6 1 5]\n",
      "  [9 3 7]]\n",
      "\n",
      " [[4 2 0]\n",
      "  [7 8 7]]]\n",
      "sorted depth wise\n",
      " [[[4 1 5]\n",
      "  [6 2 0]]\n",
      "\n",
      " [[9 8 7]\n",
      "  [7 3 7]]]\n"
     ]
    }
   ],
   "source": [
    "arr = np.array([[[9, 1, 5], [6, 3, 7]],\n",
    "                [[4, 8, 7], [7, 2, 0]]])\n",
    "\n",
    "# Sort along last axis (axis = -1)\n",
    "sorted_col = np.sort(arr, axis=-1)\n",
    "print('sorted colum wise\\n', sorted_col)\n",
    "\n",
    "# Sort along axis = 1\n",
    "sorted_row = np.sort(arr, axis=1)\n",
    "print('sorted row wise\\n', sorted_row)\n",
    "\n",
    "# Sort along axis = 0\n",
    "sorted_depth = np.sort(arr, axis=0)\n",
    "print('sorted depth wise\\n', sorted_depth)\n"
   ]
  }
 ],
 "metadata": {
  "kernelspec": {
   "display_name": ".venv",
   "language": "python",
   "name": "python3"
  },
  "language_info": {
   "codemirror_mode": {
    "name": "ipython",
    "version": 3
   },
   "file_extension": ".py",
   "mimetype": "text/x-python",
   "name": "python",
   "nbconvert_exporter": "python",
   "pygments_lexer": "ipython3",
   "version": "3.12.4"
  }
 },
 "nbformat": 4,
 "nbformat_minor": 5
}
