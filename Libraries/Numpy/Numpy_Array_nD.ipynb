{
 "cells": [
  {
   "cell_type": "markdown",
   "id": "2e5f9070",
   "metadata": {},
   "source": [
    "# n-D Array"
   ]
  },
  {
   "cell_type": "markdown",
   "id": "a8abcd49",
   "metadata": {},
   "source": [
    "Creating higher dimentional array:"
   ]
  },
  {
   "cell_type": "code",
   "execution_count": 2,
   "id": "1b63d13b",
   "metadata": {},
   "outputs": [],
   "source": [
    "import numpy as np"
   ]
  },
  {
   "cell_type": "code",
   "execution_count": 3,
   "id": "b7b0aca1",
   "metadata": {},
   "outputs": [
    {
     "name": "stdout",
     "output_type": "stream",
     "text": [
      "Higher dimention array:\n",
      " [[[[[1 2 3 4]]]]]\n"
     ]
    }
   ],
   "source": [
    "arr = np.array([1, 2, 3, 4], ndmin=5)\n",
    "print(\"Higher dimention array:\\n\", arr)"
   ]
  },
  {
   "cell_type": "markdown",
   "id": "1bd32014",
   "metadata": {},
   "source": [
    "**Shape of an Array**<br>\n",
    "The shape of an array is the number of elements in each dimension."
   ]
  },
  {
   "cell_type": "code",
   "execution_count": 4,
   "id": "35c97672",
   "metadata": {},
   "outputs": [
    {
     "name": "stdout",
     "output_type": "stream",
     "text": [
      "Shape:  (1, 1, 1, 1, 4)\n"
     ]
    }
   ],
   "source": [
    "print(\"Shape: \", arr.shape)"
   ]
  }
 ],
 "metadata": {
  "kernelspec": {
   "display_name": ".venv",
   "language": "python",
   "name": "python3"
  },
  "language_info": {
   "codemirror_mode": {
    "name": "ipython",
    "version": 3
   },
   "file_extension": ".py",
   "mimetype": "text/x-python",
   "name": "python",
   "nbconvert_exporter": "python",
   "pygments_lexer": "ipython3",
   "version": "3.12.4"
  }
 },
 "nbformat": 4,
 "nbformat_minor": 5
}
