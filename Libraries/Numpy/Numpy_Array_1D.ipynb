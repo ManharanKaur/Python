{
 "cells": [
  {
   "cell_type": "markdown",
   "id": "e818b9e3",
   "metadata": {},
   "source": [
    "# 1D Array in NumPy\n",
    "\n",
    "A **1D array** (one-dimensional array) is like a list of elements — a single row or line of data.\n"
   ]
  },
  {
   "cell_type": "code",
   "execution_count": 1,
   "id": "e6a2abd7",
   "metadata": {},
   "outputs": [],
   "source": [
    "import numpy as np"
   ]
  },
  {
   "cell_type": "code",
   "execution_count": null,
   "id": "1bfdbe94",
   "metadata": {},
   "outputs": [
    {
     "name": "stdout",
     "output_type": "stream",
     "text": [
      "1D Numpy array:  [1 2 3 4 5]\n",
      "Number of dimensions:  1\n"
     ]
    }
   ],
   "source": [
    "x = np.array([1,2,3,4,5,6,7]) # input array : a list is passed\n",
    "print(\"1D Numpy array: \", x)\n",
    "print(\"Number of dimensions: \", x.ndim)\n",
    "print(\"Data type: \", x.dtype)\n",
    "# print(\"Type: \", type(x))\n",
    "\n",
    "# print(\"Size: \", x.size)\n",
    "\n",
    "# print(\"Number of elements: \", x.itemsize)\n",
    "# print(\"Memory size: \", x.nbytes)"
   ]
  },
  {
   "cell_type": "markdown",
   "id": "5395493f",
   "metadata": {},
   "source": [
    "Indexing"
   ]
  },
  {
   "cell_type": "code",
   "execution_count": 3,
   "id": "3900bd60",
   "metadata": {},
   "outputs": [
    {
     "name": "stdout",
     "output_type": "stream",
     "text": [
      "x[3]:  4\n",
      "x[-1]:  5\n"
     ]
    }
   ],
   "source": [
    "print(\"x[3]: \", x[3])\n",
    "print(\"x[-1]: \", x[-1]) # Access the last element"
   ]
  },
  {
   "cell_type": "markdown",
   "id": "762cba5f",
   "metadata": {},
   "source": [
    "**Slicing arrays:**<br>\n",
    "Slicing in python means taking elements from one given index to another given index."
   ]
  },
  {
   "cell_type": "code",
   "execution_count": 4,
   "id": "83b23213",
   "metadata": {},
   "outputs": [
    {
     "name": "stdout",
     "output_type": "stream",
     "text": [
      "x[1:5]:  [2 3 4 5]\n",
      "x[-3:-1]: [3 4]\n",
      "x[1:5:2]: [2 4]\n"
     ]
    }
   ],
   "source": [
    "print(\"x[1:5]: \", x[1:5]) # Slice elements from index 1 to index 5\n",
    "print(\"x[-3:-1]:\", x[-3:-1]) # Slice from the index 3 from the end to index 1 from the end\n",
    "print(\"x[1:5:2]:\", x[1:5:2]) # Return every other element from index 1 to index 5:"
   ]
  },
  {
   "cell_type": "code",
   "execution_count": 5,
   "id": "e238cc1f",
   "metadata": {},
   "outputs": [
    {
     "name": "stdout",
     "output_type": "stream",
     "text": [
      "[10. 20. 30.]\n",
      "Dimensions: 1\n",
      "Data Type: float32\n"
     ]
    }
   ],
   "source": [
    "a = np.array([10, 20, 30], dtype=np.float32)\n",
    "print(a)\n",
    "print(\"Dimensions:\", a.ndim)\n",
    "print(\"Data Type:\", a.dtype)"
   ]
  },
  {
   "cell_type": "code",
   "execution_count": 6,
   "id": "0bd5043b",
   "metadata": {},
   "outputs": [
    {
     "ename": "ValueError",
     "evalue": "invalid literal for int() with base 10: 'a'",
     "output_type": "error",
     "traceback": [
      "\u001b[0;31m---------------------------------------------------------------------------\u001b[0m",
      "\u001b[0;31mValueError\u001b[0m                                Traceback (most recent call last)",
      "Cell \u001b[0;32mIn[6], line 1\u001b[0m\n\u001b[0;32m----> 1\u001b[0m arr \u001b[38;5;241m=\u001b[39m \u001b[43mnp\u001b[49m\u001b[38;5;241;43m.\u001b[39;49m\u001b[43marray\u001b[49m\u001b[43m(\u001b[49m\u001b[43m[\u001b[49m\u001b[38;5;124;43m'\u001b[39;49m\u001b[38;5;124;43ma\u001b[39;49m\u001b[38;5;124;43m'\u001b[39;49m\u001b[43m,\u001b[49m\u001b[43m \u001b[49m\u001b[38;5;124;43m'\u001b[39;49m\u001b[38;5;124;43m2\u001b[39;49m\u001b[38;5;124;43m'\u001b[39;49m\u001b[43m,\u001b[49m\u001b[43m \u001b[49m\u001b[38;5;124;43m'\u001b[39;49m\u001b[38;5;124;43m3\u001b[39;49m\u001b[38;5;124;43m'\u001b[39;49m\u001b[43m]\u001b[49m\u001b[43m,\u001b[49m\u001b[43m \u001b[49m\u001b[43mdtype\u001b[49m\u001b[38;5;241;43m=\u001b[39;49m\u001b[38;5;124;43m'\u001b[39;49m\u001b[38;5;124;43mi\u001b[39;49m\u001b[38;5;124;43m'\u001b[39;49m\u001b[43m)\u001b[49m \u001b[38;5;66;03m# will raise error\u001b[39;00m\n",
      "\u001b[0;31mValueError\u001b[0m: invalid literal for int() with base 10: 'a'"
     ]
    }
   ],
   "source": [
    "arr = np.array(['a', '2', '3'], dtype='i') # will raise error"
   ]
  },
  {
   "cell_type": "markdown",
   "id": "566a6e2d",
   "metadata": {},
   "source": [
    "The best way to change the data type of an existing array, is to make a copy of the array with the `astype()` method."
   ]
  },
  {
   "cell_type": "code",
   "execution_count": 9,
   "id": "b0bb2b80",
   "metadata": {},
   "outputs": [
    {
     "name": "stdout",
     "output_type": "stream",
     "text": [
      "[1 2 3]\n",
      "int32\n"
     ]
    }
   ],
   "source": [
    "arr = np.array([\"1\", \"2\", \"3\"])\n",
    "newarr = arr.astype('i')\n",
    "print(newarr)\n",
    "print(newarr.dtype)"
   ]
  },
  {
   "cell_type": "markdown",
   "id": "5dd8b9d9",
   "metadata": {},
   "source": [
    "**Shape of an Array**<br>\n",
    "The shape of an array is the number of elements in each dimension."
   ]
  },
  {
   "cell_type": "code",
   "execution_count": 10,
   "id": "fadb7413",
   "metadata": {},
   "outputs": [
    {
     "name": "stdout",
     "output_type": "stream",
     "text": [
      "Shape:  (5,)\n"
     ]
    }
   ],
   "source": [
    "print(\"Shape: \", x.shape)"
   ]
  },
  {
   "cell_type": "markdown",
   "id": "59d5a922",
   "metadata": {},
   "source": [
    "2D to 1D Array"
   ]
  },
  {
   "cell_type": "code",
   "execution_count": 16,
   "id": "c7b9c35d",
   "metadata": {},
   "outputs": [
    {
     "name": "stdout",
     "output_type": "stream",
     "text": [
      "Original 2D array:\n",
      "[[1 2 3]\n",
      " [4 5 6]]\n",
      "\n",
      "Converted 1D array:\n",
      "[1 2 3 4 5 6]\n"
     ]
    }
   ],
   "source": [
    "# 2D array\n",
    "a = np.array([[1, 2, 3], [4, 5, 6]])\n",
    "# Convert to 1D\n",
    "b = a.flatten()\n",
    "print(\"Original 2D array:\")\n",
    "print(a)\n",
    "\n",
    "print(\"\\nConverted 1D array:\")\n",
    "print(b)"
   ]
  },
  {
   "cell_type": "markdown",
   "id": "68ceef0a",
   "metadata": {},
   "source": [
    "#### Concatenating Arrays in NumPy\n",
    "\n",
    "In NumPy, you can concatenate arrays using the `np.concatenate()` function. This function allows you to join two or more arrays along a specified axis."
   ]
  },
  {
   "cell_type": "code",
   "execution_count": null,
   "id": "375ae299",
   "metadata": {},
   "outputs": [],
   "source": [
    "# 1D arrays\n",
    "a = np.array([1, 2, 3])\n",
    "b = np.array([4, 5, 6])\n",
    "\n",
    "# Concatenate along axis 0 (default for 1D arrays)\n",
    "c = np.concatenate((a, b))\n",
    "\n",
    "print(\"Concatenated 1D array:\")\n",
    "print(c)"
   ]
  },
  {
   "cell_type": "markdown",
   "id": "f0499064",
   "metadata": {},
   "source": [
    "#### Other Concatenation Functions in NumPy\n",
    "\n",
    "Besides `np.concatenate()`, NumPy provides several other functions that allow you to concatenate arrays in different ways.\n",
    "\n",
    "#### 1. **`np.stack()`**\n",
    "\n",
    "- **Purpose**: Adds a new axis (dimension) to the arrays while concatenating them along that axis.\n",
    "- **Usage**: `np.stack(arrays, axis=0)`\n",
    "- **Note**: Unlike `concatenate()`, `stack()` increases the dimensionality of the resulting array.\n",
    "\n"
   ]
  },
  {
   "cell_type": "code",
   "execution_count": null,
   "id": "d596c144",
   "metadata": {},
   "outputs": [
    {
     "name": "stdout",
     "output_type": "stream",
     "text": [
      "Stacked array:\n",
      "[[1 2]\n",
      " [3 4]]\n"
     ]
    }
   ],
   "source": [
    "a = np.array([1, 2])\n",
    "b = np.array([3, 4])\n",
    "\n",
    "# Stack along a new axis (default is axis=0)\n",
    "c = np.stack((a, b))\n",
    "\n",
    "print(\"Stacked array:\")\n",
    "print(c)"
   ]
  },
  {
   "cell_type": "markdown",
   "id": "b1425ddb",
   "metadata": {},
   "source": [
    "#### 2. **`np.hstack()`**\n",
    "- **Purpose**: Concatenates arrays horizontally (along axis 1). It's equivalent to `np.concatenate(..., axis=1)`.\n",
    "- **Usage**: `np.hstack(arrays)`"
   ]
  },
  {
   "cell_type": "code",
   "execution_count": 18,
   "id": "e3f4f4d2",
   "metadata": {},
   "outputs": [
    {
     "name": "stdout",
     "output_type": "stream",
     "text": [
      "Horizontally stacked array:\n",
      "[[1 2 5 6]\n",
      " [3 4 7 8]]\n"
     ]
    }
   ],
   "source": [
    "# 2D arrays\n",
    "a = np.array([[1, 2], [3, 4]])\n",
    "b = np.array([[5, 6], [7, 8]])\n",
    "\n",
    "# Horizontally stack the arrays\n",
    "c = np.hstack((a, b))\n",
    "\n",
    "print(\"Horizontally stacked array:\")\n",
    "print(c)\n"
   ]
  },
  {
   "cell_type": "markdown",
   "id": "165a29c4",
   "metadata": {},
   "source": [
    "#### 3. **`np.vstack()`**\n",
    "- **Purpose**: Concatenates arrays vertically (along axis 0). It's equivalent to `np.concatenate(..., axis=0)`.\n",
    "- **Usage**: `np.vstack(arrays)`"
   ]
  },
  {
   "cell_type": "code",
   "execution_count": 19,
   "id": "9e0950b6",
   "metadata": {},
   "outputs": [
    {
     "name": "stdout",
     "output_type": "stream",
     "text": [
      "Vertically stacked array:\n",
      "[[1 2]\n",
      " [3 4]\n",
      " [5 6]\n",
      " [7 8]]\n"
     ]
    }
   ],
   "source": [
    "# 2D arrays\n",
    "a = np.array([[1, 2], [3, 4]])\n",
    "b = np.array([[5, 6], [7, 8]])\n",
    "\n",
    "# Vertically stack the arrays\n",
    "c = np.vstack((a, b))\n",
    "\n",
    "print(\"Vertically stacked array:\")\n",
    "print(c)\n"
   ]
  },
  {
   "cell_type": "markdown",
   "id": "0c5c8898",
   "metadata": {},
   "source": [
    "#### 4. **`np.dstack()`**\n",
    "- **Purpose**: Concatenates arrays along the third axis (depth), effectively stacking them as if they were along the \"z\" axis.\n",
    "- **Usage**: `np.dstack(arrays)`"
   ]
  },
  {
   "cell_type": "code",
   "execution_count": 20,
   "id": "3a232ea1",
   "metadata": {},
   "outputs": [
    {
     "name": "stdout",
     "output_type": "stream",
     "text": [
      "Stacked along depth axis (3D array):\n",
      "[[[1 5]\n",
      "  [2 6]]\n",
      "\n",
      " [[3 7]\n",
      "  [4 8]]]\n"
     ]
    }
   ],
   "source": [
    "# 2D arrays\n",
    "a = np.array([[1, 2], [3, 4]])\n",
    "b = np.array([[5, 6], [7, 8]])\n",
    "\n",
    "# Stack along the third axis (depth)\n",
    "c = np.dstack((a, b))\n",
    "\n",
    "print(\"Stacked along depth axis (3D array):\")\n",
    "print(c)\n"
   ]
  },
  {
   "cell_type": "markdown",
   "id": "e7185f7d",
   "metadata": {},
   "source": [
    "#### Array Splitting in NumPy\n",
    "\n",
    "NumPy provides several functions to split arrays:\n",
    "\n",
    "- `np.split()`: Split array into a list of sub-arrays.\n",
    "- `np.array_split()`: Similar to `np.split()`, but allows for unequal sub-arrays.\n",
    "- `np.hsplit()`: Split array horizontally (column-wise).\n",
    "- `np.vsplit()`: Split array vertically (row-wise)."
   ]
  },
  {
   "cell_type": "code",
   "execution_count": 21,
   "id": "f16e5e4d",
   "metadata": {},
   "outputs": [
    {
     "name": "stdout",
     "output_type": "stream",
     "text": [
      "[array([1, 2, 3]), array([4, 5, 6]), array([7, 8])]\n"
     ]
    }
   ],
   "source": [
    "arr = np.array([1, 2, 3, 4, 5, 6, 7, 8])\n",
    "\n",
    "# Split into 3 sub-arrays\n",
    "new_arr = np.array_split(arr, 3)\n",
    "print(new_arr)"
   ]
  },
  {
   "cell_type": "code",
   "execution_count": 22,
   "id": "62ddfb7b",
   "metadata": {},
   "outputs": [
    {
     "name": "stdout",
     "output_type": "stream",
     "text": [
      "(array([3, 5, 6]),)\n"
     ]
    }
   ],
   "source": [
    "arr = np.array([1, 2, 3, 4, 5, 4, 4])\n",
    "x = np.where(arr == 4)\n",
    "print(x)"
   ]
  },
  {
   "cell_type": "code",
   "execution_count": null,
   "id": "7fdece29",
   "metadata": {},
   "outputs": [
    {
     "name": "stdout",
     "output_type": "stream",
     "text": [
      "[ 0  0  0 25 30]\n"
     ]
    }
   ],
   "source": [
    "arr = np.array([10, 15, 20, 25, 30])\n",
    "result = np.where(arr > 20, arr, 0) # Replace elements: keep only elements greater than 20\n",
    "print(result)"
   ]
  },
  {
   "cell_type": "code",
   "execution_count": 24,
   "id": "3252b25f",
   "metadata": {},
   "outputs": [
    {
     "name": "stdout",
     "output_type": "stream",
     "text": [
      "[1 2 3 5]\n"
     ]
    }
   ],
   "source": [
    "arr = np.array([3, 1, 5, 2])\n",
    "sort_arr = np.sort(arr)\n",
    "print(sort_arr)"
   ]
  }
 ],
 "metadata": {
  "kernelspec": {
   "display_name": ".venv",
   "language": "python",
   "name": "python3"
  },
  "language_info": {
   "codemirror_mode": {
    "name": "ipython",
    "version": 3
   },
   "file_extension": ".py",
   "mimetype": "text/x-python",
   "name": "python",
   "nbconvert_exporter": "python",
   "pygments_lexer": "ipython3",
   "version": "3.12.4"
  }
 },
 "nbformat": 4,
 "nbformat_minor": 5
}
