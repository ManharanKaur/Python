{
 "cells": [
  {
   "cell_type": "code",
   "execution_count": null,
   "id": "c670760e",
   "metadata": {},
   "outputs": [],
   "source": [
    "from numpy import random as rd\n",
    "import numpy as np"
   ]
  },
  {
   "cell_type": "code",
   "execution_count": 4,
   "id": "8fc5672b",
   "metadata": {},
   "outputs": [
    {
     "name": "stdout",
     "output_type": "stream",
     "text": [
      "59\n"
     ]
    }
   ],
   "source": [
    "x = rd.randint(100) # random integer between 0 and 100\n",
    "print(x)"
   ]
  },
  {
   "cell_type": "code",
   "execution_count": 6,
   "id": "0acf05fa",
   "metadata": {},
   "outputs": [
    {
     "name": "stdout",
     "output_type": "stream",
     "text": [
      "0.6936016456587981\n"
     ]
    }
   ],
   "source": [
    "x = rd.rand() # random number between 0 and 1\n",
    "print(x)"
   ]
  },
  {
   "cell_type": "code",
   "execution_count": 7,
   "id": "0bd6598e",
   "metadata": {},
   "outputs": [
    {
     "name": "stdout",
     "output_type": "stream",
     "text": [
      "[35  5 32 11 18  9 21]\n"
     ]
    }
   ],
   "source": [
    "x = rd.randint(5,45,size=(7)) # 7 random numbers between 5 and 45\n",
    "print(x)"
   ]
  },
  {
   "cell_type": "code",
   "execution_count": 9,
   "id": "63b75e17",
   "metadata": {},
   "outputs": [
    {
     "name": "stdout",
     "output_type": "stream",
     "text": [
      "[[44 39 36 32 30 38]\n",
      " [ 7 40 19 24 44  5]\n",
      " [31 16 20 19  8 20]\n",
      " [16 38 33 29 29  5]\n",
      " [19 14 21 30 14 41]]\n"
     ]
    }
   ],
   "source": [
    "x = rd.randint(5,45,size=(5,6)) # 7 random numbers between 5 and 45\n",
    "print(x)"
   ]
  },
  {
   "cell_type": "code",
   "execution_count": null,
   "id": "332419f2",
   "metadata": {},
   "outputs": [
    {
     "name": "stdout",
     "output_type": "stream",
     "text": [
      "[0.1469971  0.26242217 0.88724412 0.35845195 0.92000311]\n"
     ]
    }
   ],
   "source": [
    "x = rd.rand(5) # 1-D array containing 5 random floats\n",
    "print(x)"
   ]
  },
  {
   "cell_type": "code",
   "execution_count": null,
   "id": "fb03b3db",
   "metadata": {},
   "outputs": [
    {
     "name": "stdout",
     "output_type": "stream",
     "text": [
      "[[0.39260229 0.5143716  0.74028465 0.49920074 0.50131706]\n",
      " [0.40735965 0.1647198  0.89819488 0.47688417 0.27499972]\n",
      " [0.31116475 0.32431668 0.90563884 0.85517444 0.91318661]\n",
      " [0.90700472 0.02249992 0.72210724 0.92966571 0.32420978]]\n"
     ]
    }
   ],
   "source": [
    "x = rd.rand(4,5) # 2-D array of size 4 x 5\n",
    "print(x)"
   ]
  },
  {
   "cell_type": "code",
   "execution_count": null,
   "id": "98c76c0c",
   "metadata": {},
   "outputs": [
    {
     "name": "stdout",
     "output_type": "stream",
     "text": [
      "53\n"
     ]
    }
   ],
   "source": [
    "x = rd.choice([13, 53, 37, 96]) # random choice from list\n",
    "print(x)"
   ]
  },
  {
   "cell_type": "code",
   "execution_count": 13,
   "id": "ca896f4e",
   "metadata": {},
   "outputs": [
    {
     "name": "stdout",
     "output_type": "stream",
     "text": [
      "[[96 96 96 96 37]\n",
      " [13 37 37 37 37]\n",
      " [13 53 96 96 96]]\n"
     ]
    }
   ],
   "source": [
    "x = rd.choice([13, 53, 37, 96], size=(3,5)) # 2-D array that consists of the values in the array parameter\n",
    "print(x)"
   ]
  },
  {
   "cell_type": "markdown",
   "id": "b7b6939b",
   "metadata": {},
   "source": [
    "## Random Distribution\n",
    "A random distribution is a set of random numbers that follow a certain probability density function.<br>\n",
    "\n",
    "- **`Probability Density Function`**: A function that describes a `continuous probability`. i.e. probability of all values in an array.<br>\n",
    "\n",
    "**We can generate random numbers with specific chances using the `choice()` function from NumPy's random module.**<br>\n",
    "This function lets us define how likely each value is to be picked.<br>\n",
    "The probabilities are set using numbers between 0 and 1:\n",
    "- `0` means the value will **never** be chosen.\n",
    "- `1` means the value will **always** be chosen.\n",
    "\n",
    "\n"
   ]
  },
  {
   "cell_type": "code",
   "execution_count": null,
   "id": "a82c76d4",
   "metadata": {},
   "outputs": [
    {
     "name": "stdout",
     "output_type": "stream",
     "text": [
      "[7 3 5 3 5 7 7 5 3 5 7 5 7 7 7 5 5 7 7 3 3 7 7 7 5 7 7 7 7 5 7 7 7 7 7 7 5\n",
      " 3 5 7 7 7 5 5 7 7 7 7 7 7 7 7 7 3 7 5 7 7 3 3 7 5 5 5 5 5 7 7 7 7 7 7 3 7\n",
      " 7 7 7 5 7 5 7 7 5 7 7 7 3 7 7 7 7 7 7 7 3 7 7 3 7 7]\n",
      "Count of 3 = 13\n",
      "Count of 5 = 22\n",
      "Count of 7 = 65\n",
      "Count of 9 = 0\n"
     ]
    }
   ],
   "source": [
    "x = rd.choice([3, 5, 7, 9], p=[0.1, 0.3, 0.6, 0.0], size=100)\n",
    "# The probability for the value to be 3 is set to be 0.1, 5 is set to be 0.3, 7 is set to be 0.6, 9 is set to be 0\n",
    "# The sum of all probability numbers should be 1. else ERROR will be shown\n",
    "print(x)\n",
    "print(\"Count of 3 =\", np.count_nonzero(x == 3))\n",
    "print(\"Count of 5 =\", np.count_nonzero(x == 5))\n",
    "print(\"Count of 7 =\", np.count_nonzero(x == 7))\n",
    "print(\"Count of 9 =\", np.count_nonzero(x == 9))"
   ]
  },
  {
   "cell_type": "markdown",
   "id": "64e75d0f",
   "metadata": {},
   "source": [
    "## Permutation\n",
    "A permutation refers to an arrangement of elements. e.g. [3, 2, 1] is a permutation of [1, 2, 3] and vice-versa"
   ]
  },
  {
   "cell_type": "code",
   "execution_count": null,
   "id": "7163f060",
   "metadata": {},
   "outputs": [
    {
     "name": "stdout",
     "output_type": "stream",
     "text": [
      "[3 1 5 2 4]\n"
     ]
    }
   ],
   "source": [
    "arr = np.array([1, 2, 3, 4, 5])\n",
    "rd.shuffle(arr) # The shuffle() method makes changes to the original array.\n",
    "print(arr)"
   ]
  },
  {
   "cell_type": "code",
   "execution_count": 26,
   "id": "0f41184c",
   "metadata": {},
   "outputs": [
    {
     "name": "stdout",
     "output_type": "stream",
     "text": [
      "[1 5 3 2 4]\n"
     ]
    }
   ],
   "source": [
    "arr = np.array([1, 2, 3, 4, 5])\n",
    "print(rd.permutation(arr)) # The permutation() method returns a re-arranged array (and leaves the original array un-changed)."
   ]
  },
  {
   "cell_type": "code",
   "execution_count": 29,
   "id": "e53c99ea",
   "metadata": {},
   "outputs": [
    {
     "name": "stdout",
     "output_type": "stream",
     "text": [
      "[('a', 'b', 'c'), ('a', 'c', 'b'), ('b', 'a', 'c'), ('b', 'c', 'a'), ('c', 'a', 'b'), ('c', 'b', 'a')]\n"
     ]
    }
   ],
   "source": [
    "from itertools import permutations\n",
    "arr = np.array(['a','b','c'])\n",
    "perm_tuples = list(permutations(arr))\n",
    "print(perm_tuples)"
   ]
  }
 ],
 "metadata": {
  "kernelspec": {
   "display_name": ".venv",
   "language": "python",
   "name": "python3"
  },
  "language_info": {
   "codemirror_mode": {
    "name": "ipython",
    "version": 3
   },
   "file_extension": ".py",
   "mimetype": "text/x-python",
   "name": "python",
   "nbconvert_exporter": "python",
   "pygments_lexer": "ipython3",
   "version": "3.12.4"
  }
 },
 "nbformat": 4,
 "nbformat_minor": 5
}
